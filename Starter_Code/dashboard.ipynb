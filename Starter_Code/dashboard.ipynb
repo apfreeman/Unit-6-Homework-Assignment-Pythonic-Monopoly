{
 "cells": [
  {
   "cell_type": "markdown",
   "metadata": {},
   "source": [
    "# Toronto Dwellings Analysis Dashboard\n",
    "\n",
    "In this notebook, you will compile the visualizations from the previous analysis into functions to create a Panel dashboard."
   ]
  },
  {
   "cell_type": "code",
   "execution_count": null,
   "metadata": {},
   "outputs": [],
   "source": [
    "# imports\n",
    "import panel as pn\n",
    "pn.extension('plotly')\n",
    "import plotly.express as px\n",
    "import pandas as pd\n",
    "import hvplot.pandas\n",
    "import matplotlib.pyplot as plt\n",
    "import os\n",
    "from pathlib import Path\n",
    "from dotenv import load_dotenv"
   ]
  },
  {
   "cell_type": "code",
   "execution_count": null,
   "metadata": {},
   "outputs": [],
   "source": [
    "# Initialize the Panel Extensions (for Plotly)\n",
    "import panel as pn\n",
    "pn.extension(\"plotly\")"
   ]
  },
  {
   "cell_type": "code",
   "execution_count": null,
   "metadata": {},
   "outputs": [],
   "source": [
    "# Read the Mapbox API key\n",
    "load_dotenv()\n",
    "map_box_api = os.getenv(\"API_KEY_MAPBOX\")\n",
    "px.set_mapbox_access_token(map_box_api)"
   ]
  },
  {
   "cell_type": "markdown",
   "metadata": {},
   "source": [
    "# Import Data"
   ]
  },
  {
   "cell_type": "code",
   "execution_count": null,
   "metadata": {},
   "outputs": [],
   "source": [
    "# Import the CSVs to Pandas DataFrames\n",
    "file_path = Path(\"Data/toronto_neighbourhoods_census_data.csv\")\n",
    "to_data = pd.read_csv(file_path, index_col=\"year\")\n",
    "\n",
    "file_path = Path(\"Data/toronto_neighbourhoods_coordinates.csv\")\n",
    "df_neighbourhood_locations = pd.read_csv(file_path)"
   ]
  },
  {
   "cell_type": "markdown",
   "metadata": {},
   "source": [
    "- - -"
   ]
  },
  {
   "cell_type": "markdown",
   "metadata": {},
   "source": [
    "## Panel Visualizations\n",
    "\n",
    "In this section, you will copy the code for each plot type from your analysis notebook and place it into separate functions that Panel can use to create panes for the dashboard. \n",
    "\n",
    "These functions will convert the plot object to a Panel pane.\n",
    "\n",
    "Be sure to include any DataFrame transformation/manipulation code required along with the plotting code.\n",
    "\n",
    "Return a Panel pane object from each function that can be used to build the dashboard.\n",
    "\n",
    "Note: Remove any `.show()` lines from the code. We want to return the plots instead of showing them. The Panel dashboard will then display the plots."
   ]
  },
  {
   "cell_type": "markdown",
   "metadata": {},
   "source": [
    "### Global available data"
   ]
  },
  {
   "cell_type": "code",
   "execution_count": 63,
   "metadata": {},
   "outputs": [],
   "source": [
    "# Getting the data from the top 10 expensive neighbourhoods\n",
    "average_house_value_by_neighborhood = to_data.loc[:, [\"neighbourhood\",\"average_house_value\"]].groupby(by=[\"neighbourhood\"]).mean()\n",
    "average_house_value_by_neighborhood_top10 = average_house_value_by_neighborhood.sort_values('average_house_value', ascending=False).head(10)\n",
    "avg_house_price_by_neighbourhood =  to_data.loc[:, [\"neighbourhood\",\"average_house_value\"]].groupby(by=[\"neighbourhood\", \"year\"]).mean()\n",
    "\n",
    "# Calculate the mean number of dwelling types units per year\n",
    "to_data_filtered_grouped = to_data.loc[:, \"single_detached_house\":\"other_house\"].groupby([\"year\"]).sum()\n",
    "\n",
    "# Calculate the average monthly shelter costs for owned and rented dwellings\n",
    "to_data_owned_rented_grouped = to_data[[\"shelter_costs_owned\",\"shelter_costs_rented\"]].groupby([\"year\"]).mean()\n",
    "\n",
    "# Create new series that contains the average_house_value per year\n",
    "average_house_value = to_data[\"average_house_value\"].groupby([\"year\"]).mean()"
   ]
  },
  {
   "cell_type": "markdown",
   "metadata": {},
   "source": [
    "### Panel Visualization Functions"
   ]
  },
  {
   "cell_type": "code",
   "execution_count": 86,
   "metadata": {},
   "outputs": [],
   "source": [
    "# Define Panel visualization functions\n",
    "def neighbourhood_map():\n",
    "    \"\"\"Neighbourhood Map\"\"\"\n",
    "    \n",
    "    # Load neighbourhoods coordinates data\n",
    "    file_path = Path(\"Data/toronto_neighbourhoods_coordinates.csv\")\n",
    "    df_neighbourhood_locations = pd.read_csv(file_path)\n",
    "    df_neighbourhood_locations.set_index(\"neighbourhood\",inplace=True,drop=True)\n",
    "    df_neighbourhood_locations\n",
    "    \n",
    "    # Join the average values with the neighbourhood locations\n",
    "    df_neighbourhood_avg_house_value_locations = pd.concat([average_house_value_by_neighborhood, df_neighbourhood_locations], axis=\"columns\", join=\"inner\")\n",
    "\n",
    "    # Create a scatter mapbox to analyze neighbourhood info\n",
    "    map_fig = px.scatter_mapbox(df_neighbourhood_avg_house_value_locations, \n",
    "                        lat=\"lat\", \n",
    "                        lon=\"lon\",     \n",
    "                        color=\"average_house_value\", \n",
    "                        size=\"average_house_value\",\n",
    "                        color_continuous_scale=px.colors.cyclical.IceFire,\n",
    "                        height=600,\n",
    "                        size_max=15, \n",
    "                        zoom=9)\n",
    "    return map_fig\n",
    "\n",
    "    \n",
    "def create_bar_chart(data, title, xlabel, ylabel, color):\n",
    "    \"\"\"\n",
    "    Create a barplot based in the data argument.\n",
    "    \"\"\"\n",
    "    barplot = data.hvplot.bar(\n",
    "    title= title,\n",
    "    xlabel = xlabel, \n",
    "    ylabel = ylabel,\n",
    "    color = color\n",
    "    )\n",
    "    return barplot\n",
    "    \n",
    "def create_line_chart(data, title, xlabel, ylabel, color):\n",
    "    \"\"\"\n",
    "    Create a line chart based in the data argument.\n",
    "    \"\"\"\n",
    "    lineplot = data.hvplot.line(\n",
    "    title= title,\n",
    "    xlabel = xlabel, \n",
    "    ylabel = ylabel,\n",
    "    color = color\n",
    "    )\n",
    "    return lineplot \n",
    "\n",
    "def average_house_value():\n",
    "    \"\"\"Average house values per year.\"\"\"\n",
    "    # Create and interactive hvplot for average_house_value per year for each neighbourhood\n",
    "\n",
    "\n",
    "def average_value_by_neighbourhood():\n",
    "    \"\"\"Average house values by neighbourhood.\"\"\"\n",
    "    # Create and interactive hvplot for average_house_value per year for each neighbourhood\n",
    "    # Create new dataframe that contains the average_house_value per year for each neighbourhood\n",
    "    \n",
    "    avgvbyn_fig = avg_house_price_by_neighbourhood.hvplot(\n",
    "        x='year', \n",
    "        y='average_house_value', \n",
    "        xlabel = 'Year', \n",
    "        ylabel = 'Average House Value',\n",
    "        yformatter=\"%.0f\",\n",
    "        groupby=\"neighbourhood\",\n",
    "        widget_location='right_top'\n",
    "    )\n",
    "    return avgvbyn_fig\n",
    "\n",
    "def number_dwelling_types():\n",
    "    \"\"\"Number of dwelling types per year\"\"\"\n",
    "    # Calculate the sum number of dwelling types units per year (hint: use groupby)\n",
    "    # Create new dataframe that contains the sum of each dwelling type by year \n",
    "    to_data_filtered_grouped = to_data.loc[:, \"single_detached_house\":\"other_house\"].groupby([\"year\"]).sum()\n",
    "    return to_data_filtered_grouped\n",
    "\n",
    "def average_house_value_snapshot():\n",
    "    \"\"\"Average house value for all Toronto's neighbourhoods per year.\"\"\"\n",
    "    avg_house_snap_fig = create_line_chart(\n",
    "    data = average_house_value,\n",
    "    title = \"Average House Value in Toronto\",\n",
    "    xlabel = \"Year\",\n",
    "    ylabel = \"Avg House Value\",\n",
    "    color = \"blue\"\n",
    "    )\n",
    "    return avg_house_snap_fig\n",
    "\n",
    "\n",
    "def top_most_expensive_neighbourhoods():\n",
    "    \"\"\"Top 10 most expensive neighbourhoods.\"\"\"\n",
    "    # Plotting the data from the top 10 expensive neighbourhoods\n",
    "    top10_fig = average_house_value_by_neighborhood_top10.hvplot.bar(\n",
    "        title=\"Top 10 Most Expensive Neighbourhoods in Toronto\",\n",
    "        x='neighbourhood', \n",
    "        y='average_house_value',\n",
    "        rot=90,\n",
    "        xlabel = 'Neighbourhood', \n",
    "        ylabel = 'Avg House Value',\n",
    "        yformatter=\"%.0f\",\n",
    "        height=500,\n",
    "        width=600\n",
    "    )\n",
    "    return top10_fig\n",
    "\n",
    "def sunburts_cost_analysis():\n",
    "    \"\"\"Sunburst chart to conduct a costs analysis of most expensive neighbourhoods in Toronto per year.\"\"\"\n",
    "    \n",
    "    # Fetch the data from all expensive neighbourhoods per year.\n",
    "    # Create a list of the top 10 most expensive neighbourhoods as determined in the average_house_value_by_neighborhood_top10 section\n",
    "    average_house_value_by_neighborhood_top10_list = average_house_value_by_neighborhood_top10.index.values.tolist()\n",
    "\n",
    "    # Create a new dataframe that has shelter_costs_owned per year for each neighbourhood\n",
    "    to_data_shelter_cost_owned = to_data[[\"neighbourhood\",\"shelter_costs_owned\"]].groupby([\"neighbourhood\",\"year\"]).mean()\n",
    "\n",
    "    # To be able to use this data frame for the sunburst plot we will first reset the index of this data frame then plot\n",
    "    # The index reset is required as you are not able to pass multi indexed data to plotly.express \n",
    "    to_data_shelter_cost_owned_reset = to_data_shelter_cost_owned.reset_index()\n",
    "\n",
    "    # Create a new dataframe that contains only neighbouhoods that are in the average_house_value_by_neighborhood_top10_list\n",
    "    to_data_shelter_cost_owned_top10_neighbourhoods = to_data_shelter_cost_owned_reset.loc[to_data_shelter_cost_owned_reset[\"neighbourhood\"].isin(average_house_value_by_neighborhood_top10_list)]\n",
    "    to_data_shelter_cost_owned_top10_neighbourhoods.head()\n",
    "    \n",
    "    # Create the sunburst chart using the to_data_shelter_cost_owned_top10_neighbourhoods data frame \n",
    "    sb_fig = px.sunburst(\n",
    "        to_data_shelter_cost_owned_top10_neighbourhoods, \n",
    "        title=\"Costs Analysis of Most Expensive Neighbourhoods in Toronto per Year \",\n",
    "        path=[\"year\",\"neighbourhood\"],\n",
    "        values=\"shelter_costs_owned\",\n",
    "        color_continuous_scale=px.colors.sequential.Blues,\n",
    "        height = 600,\n",
    "        width = 700,\n",
    "        color=\"shelter_costs_owned\",\n",
    "            labels={\n",
    "                \"shelter_costs_owned\": \"Shelter Costs\",\n",
    "                }\n",
    "    )\n",
    "    sb_fig.show()"
   ]
  },
  {
   "cell_type": "markdown",
   "metadata": {},
   "source": [
    "## Panel Dashboard\n",
    "\n",
    "In this section, you will combine all of the plots into a single dashboard view using Panel. Be creative with your dashboard design!"
   ]
  },
  {
   "cell_type": "code",
   "execution_count": null,
   "metadata": {},
   "outputs": [],
   "source": [
    "# Create a Title for the Dashboard\n",
    "# YOUR CODE HERE!\n",
    "\n",
    "# Define a welcome text\n",
    "# YOUR CODE HERE!\n",
    "\n",
    "# Create a tab layout for the dashboard\n",
    "# YOUR CODE HERE!\n",
    "\n",
    "\n",
    "# Create the main dashboard\n",
    "# YOUR CODE HERE!"
   ]
  },
  {
   "cell_type": "markdown",
   "metadata": {},
   "source": [
    "## Serve the Panel Dashboard"
   ]
  },
  {
   "cell_type": "code",
   "execution_count": null,
   "metadata": {},
   "outputs": [],
   "source": [
    "# dashboard.servable()"
   ]
  },
  {
   "cell_type": "markdown",
   "metadata": {},
   "source": [
    "# Debugging\n",
    "\n",
    "Note: Some of the Plotly express plots may not render in the notebook through the panel functions.\n",
    "\n",
    "However, you can test each plot by uncommenting the following code"
   ]
  },
  {
   "cell_type": "code",
   "execution_count": null,
   "metadata": {},
   "outputs": [],
   "source": [
    "# neighbourhood_map().show()"
   ]
  },
  {
   "cell_type": "code",
   "execution_count": 83,
   "metadata": {},
   "outputs": [],
   "source": [
    "# create_bar_chart(data, title, xlabel, ylabel, color)\n",
    "\n",
    "# # Bar chart for 2001\n",
    "# create_bar_chart(to_data_filtered_grouped.loc[2001], \"Dwelling Types in Toronto in 2001\", \"2001\", \"Dwelling Type Units\", \"red\")\n",
    "\n",
    "# # Bar chart for 2006\n",
    "# create_bar_chart(to_data_filtered_grouped.loc[2006], \"Dwelling Types in Toronto in 2006\", \"2006\", \"Dwelling Type Units\", \"blue\")\n",
    "\n",
    "# # Bar chart for 2011\n",
    "# create_bar_chart(to_data_filtered_grouped.loc[2011], \"Dwelling Types in Toronto in 2011\", \"2011\", \"Dwelling Type Units\", \"orange\")\n",
    "\n",
    "# # Bar chart for 2016\n",
    "# create_bar_chart(to_data_filtered_grouped.loc[2016], \"Dwelling Types in Toronto in 2016\", \"2016\", \"Dwelling Type Units\", \"magenta\")"
   ]
  },
  {
   "cell_type": "code",
   "execution_count": 84,
   "metadata": {},
   "outputs": [],
   "source": [
    "# create_line_chart(data, title, xlabel, ylabel, color)\n",
    "\n",
    "# # Line chart for owned dwellings\n",
    "# create_line_chart(to_data_owned_rented_grouped[\"shelter_costs_owned\"], \"Average Monthly Shelter Cost for Owned Dwellings in Toronto\", \"Year\", \"Avg Monthly Shelter Costs\", \"blue\")\n",
    "\n",
    "# # Line chart for rented dwellings\n",
    "# create_line_chart(to_data_owned_rented_grouped[\"shelter_costs_rented\"], \"Average Monthly Shelter Cost for Rented Dwellings in Toronto\", \"Year\", \"Avg Monthly Shelter Costs\", \"orange\")"
   ]
  },
  {
   "cell_type": "code",
   "execution_count": null,
   "metadata": {},
   "outputs": [],
   "source": [
    "# average_house_value()"
   ]
  },
  {
   "cell_type": "code",
   "execution_count": 65,
   "metadata": {},
   "outputs": [],
   "source": [
    "# average_value_by_neighbourhood()"
   ]
  },
  {
   "cell_type": "code",
   "execution_count": null,
   "metadata": {},
   "outputs": [],
   "source": [
    "# number_dwelling_types()"
   ]
  },
  {
   "cell_type": "code",
   "execution_count": 87,
   "metadata": {},
   "outputs": [
    {
     "ename": "AttributeError",
     "evalue": "'function' object has no attribute 'hvplot'",
     "output_type": "error",
     "traceback": [
      "\u001b[1;31m---------------------------------------------------------------------------\u001b[0m",
      "\u001b[1;31mAttributeError\u001b[0m                            Traceback (most recent call last)",
      "\u001b[1;32m~\\AppData\\Local\\Temp/ipykernel_8840/2964360062.py\u001b[0m in \u001b[0;36m<module>\u001b[1;34m\u001b[0m\n\u001b[1;32m----> 1\u001b[1;33m \u001b[0maverage_house_value_snapshot\u001b[0m\u001b[1;33m(\u001b[0m\u001b[1;33m)\u001b[0m\u001b[1;33m\u001b[0m\u001b[1;33m\u001b[0m\u001b[0m\n\u001b[0m",
      "\u001b[1;32m~\\AppData\\Local\\Temp/ipykernel_8840/388334548.py\u001b[0m in \u001b[0;36maverage_house_value_snapshot\u001b[1;34m()\u001b[0m\n\u001b[0;32m     84\u001b[0m     \u001b[0mxlabel\u001b[0m \u001b[1;33m=\u001b[0m \u001b[1;34m\"Year\"\u001b[0m\u001b[1;33m,\u001b[0m\u001b[1;33m\u001b[0m\u001b[1;33m\u001b[0m\u001b[0m\n\u001b[0;32m     85\u001b[0m     \u001b[0mylabel\u001b[0m \u001b[1;33m=\u001b[0m \u001b[1;34m\"Avg House Value\"\u001b[0m\u001b[1;33m,\u001b[0m\u001b[1;33m\u001b[0m\u001b[1;33m\u001b[0m\u001b[0m\n\u001b[1;32m---> 86\u001b[1;33m     \u001b[0mcolor\u001b[0m \u001b[1;33m=\u001b[0m \u001b[1;34m\"blue\"\u001b[0m\u001b[1;33m\u001b[0m\u001b[1;33m\u001b[0m\u001b[0m\n\u001b[0m\u001b[0;32m     87\u001b[0m     )\n\u001b[0;32m     88\u001b[0m     \u001b[1;32mreturn\u001b[0m \u001b[0mavg_house_snap_fig\u001b[0m\u001b[1;33m\u001b[0m\u001b[1;33m\u001b[0m\u001b[0m\n",
      "\u001b[1;32m~\\AppData\\Local\\Temp/ipykernel_8840/388334548.py\u001b[0m in \u001b[0;36mcreate_line_chart\u001b[1;34m(data, title, xlabel, ylabel, color)\u001b[0m\n\u001b[0;32m     41\u001b[0m     \u001b[0mCreate\u001b[0m \u001b[0ma\u001b[0m \u001b[0mline\u001b[0m \u001b[0mchart\u001b[0m \u001b[0mbased\u001b[0m \u001b[1;32min\u001b[0m \u001b[0mthe\u001b[0m \u001b[0mdata\u001b[0m \u001b[0margument\u001b[0m\u001b[1;33m.\u001b[0m\u001b[1;33m\u001b[0m\u001b[1;33m\u001b[0m\u001b[0m\n\u001b[0;32m     42\u001b[0m     \"\"\"\n\u001b[1;32m---> 43\u001b[1;33m     lineplot = data.hvplot.line(\n\u001b[0m\u001b[0;32m     44\u001b[0m     \u001b[0mtitle\u001b[0m\u001b[1;33m=\u001b[0m \u001b[0mtitle\u001b[0m\u001b[1;33m,\u001b[0m\u001b[1;33m\u001b[0m\u001b[1;33m\u001b[0m\u001b[0m\n\u001b[0;32m     45\u001b[0m     \u001b[0mxlabel\u001b[0m \u001b[1;33m=\u001b[0m \u001b[0mxlabel\u001b[0m\u001b[1;33m,\u001b[0m\u001b[1;33m\u001b[0m\u001b[1;33m\u001b[0m\u001b[0m\n",
      "\u001b[1;31mAttributeError\u001b[0m: 'function' object has no attribute 'hvplot'"
     ]
    }
   ],
   "source": [
    "average_house_value_snapshot()"
   ]
  },
  {
   "cell_type": "code",
   "execution_count": 56,
   "metadata": {},
   "outputs": [],
   "source": [
    "# top_most_expensive_neighbourhoods()"
   ]
  },
  {
   "cell_type": "code",
   "execution_count": null,
   "metadata": {},
   "outputs": [],
   "source": [
    "# sunburts_cost_analysis()"
   ]
  },
  {
   "cell_type": "code",
   "execution_count": null,
   "metadata": {},
   "outputs": [],
   "source": []
  }
 ],
 "metadata": {
  "file_extension": ".py",
  "kernelspec": {
   "display_name": "Python [conda env:pyvizenv] *",
   "language": "python",
   "name": "conda-env-pyvizenv-py"
  },
  "language_info": {
   "codemirror_mode": {
    "name": "ipython",
    "version": 3
   },
   "file_extension": ".py",
   "mimetype": "text/x-python",
   "name": "python",
   "nbconvert_exporter": "python",
   "pygments_lexer": "ipython3",
   "version": "3.7.11"
  },
  "mimetype": "text/x-python",
  "name": "python",
  "npconvert_exporter": "python",
  "pygments_lexer": "ipython3",
  "version": 3
 },
 "nbformat": 4,
 "nbformat_minor": 4
}
