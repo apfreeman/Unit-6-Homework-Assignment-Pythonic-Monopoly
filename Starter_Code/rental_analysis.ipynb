{
 "cells": [
  {
   "cell_type": "markdown",
   "metadata": {},
   "source": [
    "# Toronto Dwellings Analysis\n",
    "\n",
    "In this assignment, you will perform fundamental analysis for the Toronto dwellings market to allow potential real estate investors to choose rental investment properties."
   ]
  },
  {
   "cell_type": "code",
   "execution_count": 107,
   "metadata": {},
   "outputs": [],
   "source": [
    "# imports\n",
    "import panel as pn\n",
    "pn.extension('plotly')\n",
    "import plotly.express as px\n",
    "import pandas as pd\n",
    "import hvplot.pandas\n",
    "import matplotlib.pyplot as plt\n",
    "import os\n",
    "from pathlib import Path\n",
    "from dotenv import load_dotenv"
   ]
  },
  {
   "cell_type": "code",
   "execution_count": 108,
   "metadata": {},
   "outputs": [],
   "source": [
    "# Read the Mapbox API key\n",
    "load_dotenv()\n",
    "map_box_api = os.getenv(\"API_KEY_MAPBOX\")"
   ]
  },
  {
   "cell_type": "markdown",
   "metadata": {},
   "source": [
    "## Load Data"
   ]
  },
  {
   "cell_type": "code",
   "execution_count": 109,
   "metadata": {},
   "outputs": [
    {
     "data": {
      "text/html": [
       "<div>\n",
       "<style scoped>\n",
       "    .dataframe tbody tr th:only-of-type {\n",
       "        vertical-align: middle;\n",
       "    }\n",
       "\n",
       "    .dataframe tbody tr th {\n",
       "        vertical-align: top;\n",
       "    }\n",
       "\n",
       "    .dataframe thead th {\n",
       "        text-align: right;\n",
       "    }\n",
       "</style>\n",
       "<table border=\"1\" class=\"dataframe\">\n",
       "  <thead>\n",
       "    <tr style=\"text-align: right;\">\n",
       "      <th></th>\n",
       "      <th>neighbourhood</th>\n",
       "      <th>single_detached_house</th>\n",
       "      <th>apartment_five_storeys_plus</th>\n",
       "      <th>movable_dwelling</th>\n",
       "      <th>semi_detached_house</th>\n",
       "      <th>row_house</th>\n",
       "      <th>duplex</th>\n",
       "      <th>apartment_five_storeys_less</th>\n",
       "      <th>other_house</th>\n",
       "      <th>average_house_value</th>\n",
       "      <th>shelter_costs_owned</th>\n",
       "      <th>shelter_costs_rented</th>\n",
       "    </tr>\n",
       "    <tr>\n",
       "      <th>year</th>\n",
       "      <th></th>\n",
       "      <th></th>\n",
       "      <th></th>\n",
       "      <th></th>\n",
       "      <th></th>\n",
       "      <th></th>\n",
       "      <th></th>\n",
       "      <th></th>\n",
       "      <th></th>\n",
       "      <th></th>\n",
       "      <th></th>\n",
       "      <th></th>\n",
       "    </tr>\n",
       "  </thead>\n",
       "  <tbody>\n",
       "    <tr>\n",
       "      <th>2001</th>\n",
       "      <td>Agincourt North</td>\n",
       "      <td>3715</td>\n",
       "      <td>1480</td>\n",
       "      <td>0</td>\n",
       "      <td>1055</td>\n",
       "      <td>1295</td>\n",
       "      <td>195</td>\n",
       "      <td>185</td>\n",
       "      <td>5</td>\n",
       "      <td>200388</td>\n",
       "      <td>810</td>\n",
       "      <td>870</td>\n",
       "    </tr>\n",
       "    <tr>\n",
       "      <th>2001</th>\n",
       "      <td>Agincourt South-Malvern West</td>\n",
       "      <td>3250</td>\n",
       "      <td>1835</td>\n",
       "      <td>0</td>\n",
       "      <td>545</td>\n",
       "      <td>455</td>\n",
       "      <td>105</td>\n",
       "      <td>425</td>\n",
       "      <td>0</td>\n",
       "      <td>203047</td>\n",
       "      <td>806</td>\n",
       "      <td>892</td>\n",
       "    </tr>\n",
       "    <tr>\n",
       "      <th>2001</th>\n",
       "      <td>Alderwood</td>\n",
       "      <td>3175</td>\n",
       "      <td>315</td>\n",
       "      <td>0</td>\n",
       "      <td>470</td>\n",
       "      <td>50</td>\n",
       "      <td>185</td>\n",
       "      <td>370</td>\n",
       "      <td>0</td>\n",
       "      <td>259998</td>\n",
       "      <td>817</td>\n",
       "      <td>924</td>\n",
       "    </tr>\n",
       "    <tr>\n",
       "      <th>2001</th>\n",
       "      <td>Annex</td>\n",
       "      <td>1060</td>\n",
       "      <td>6090</td>\n",
       "      <td>5</td>\n",
       "      <td>1980</td>\n",
       "      <td>605</td>\n",
       "      <td>275</td>\n",
       "      <td>3710</td>\n",
       "      <td>165</td>\n",
       "      <td>453850</td>\n",
       "      <td>1027</td>\n",
       "      <td>1378</td>\n",
       "    </tr>\n",
       "    <tr>\n",
       "      <th>2001</th>\n",
       "      <td>Banbury-Don Mills</td>\n",
       "      <td>3615</td>\n",
       "      <td>4465</td>\n",
       "      <td>0</td>\n",
       "      <td>240</td>\n",
       "      <td>380</td>\n",
       "      <td>15</td>\n",
       "      <td>1360</td>\n",
       "      <td>0</td>\n",
       "      <td>371864</td>\n",
       "      <td>1007</td>\n",
       "      <td>1163</td>\n",
       "    </tr>\n",
       "  </tbody>\n",
       "</table>\n",
       "</div>"
      ],
      "text/plain": [
       "                     neighbourhood  single_detached_house  \\\n",
       "year                                                        \n",
       "2001               Agincourt North                   3715   \n",
       "2001  Agincourt South-Malvern West                   3250   \n",
       "2001                     Alderwood                   3175   \n",
       "2001                         Annex                   1060   \n",
       "2001             Banbury-Don Mills                   3615   \n",
       "\n",
       "      apartment_five_storeys_plus  movable_dwelling  semi_detached_house  \\\n",
       "year                                                                       \n",
       "2001                         1480                 0                 1055   \n",
       "2001                         1835                 0                  545   \n",
       "2001                          315                 0                  470   \n",
       "2001                         6090                 5                 1980   \n",
       "2001                         4465                 0                  240   \n",
       "\n",
       "      row_house  duplex  apartment_five_storeys_less  other_house  \\\n",
       "year                                                                \n",
       "2001       1295     195                          185            5   \n",
       "2001        455     105                          425            0   \n",
       "2001         50     185                          370            0   \n",
       "2001        605     275                         3710          165   \n",
       "2001        380      15                         1360            0   \n",
       "\n",
       "      average_house_value  shelter_costs_owned  shelter_costs_rented  \n",
       "year                                                                  \n",
       "2001               200388                  810                   870  \n",
       "2001               203047                  806                   892  \n",
       "2001               259998                  817                   924  \n",
       "2001               453850                 1027                  1378  \n",
       "2001               371864                 1007                  1163  "
      ]
     },
     "execution_count": 109,
     "metadata": {},
     "output_type": "execute_result"
    }
   ],
   "source": [
    "# Read the census data into a Pandas DataFrame\n",
    "file_path = Path(\"Data/toronto_neighbourhoods_census_data.csv\")\n",
    "to_data = pd.read_csv(file_path, index_col=\"year\")\n",
    "to_data.head()"
   ]
  },
  {
   "cell_type": "markdown",
   "metadata": {},
   "source": [
    "- - - "
   ]
  },
  {
   "cell_type": "markdown",
   "metadata": {},
   "source": [
    "## Dwelling Types Per Year\n",
    "\n",
    "In this section, you will calculate the number of dwelling types per year. Visualize the results using bar charts and the Pandas plot function. \n",
    "\n",
    "**Hint:** Use the Pandas `groupby` function.\n",
    "\n",
    "**Optional challenge:** Plot each bar chart in a different color."
   ]
  },
  {
   "cell_type": "code",
   "execution_count": 111,
   "metadata": {},
   "outputs": [
    {
     "data": {
      "text/html": [
       "<div>\n",
       "<style scoped>\n",
       "    .dataframe tbody tr th:only-of-type {\n",
       "        vertical-align: middle;\n",
       "    }\n",
       "\n",
       "    .dataframe tbody tr th {\n",
       "        vertical-align: top;\n",
       "    }\n",
       "\n",
       "    .dataframe thead th {\n",
       "        text-align: right;\n",
       "    }\n",
       "</style>\n",
       "<table border=\"1\" class=\"dataframe\">\n",
       "  <thead>\n",
       "    <tr style=\"text-align: right;\">\n",
       "      <th></th>\n",
       "      <th>single_detached_house</th>\n",
       "      <th>apartment_five_storeys_plus</th>\n",
       "      <th>movable_dwelling</th>\n",
       "      <th>semi_detached_house</th>\n",
       "      <th>row_house</th>\n",
       "      <th>duplex</th>\n",
       "      <th>apartment_five_storeys_less</th>\n",
       "      <th>other_house</th>\n",
       "    </tr>\n",
       "    <tr>\n",
       "      <th>year</th>\n",
       "      <th></th>\n",
       "      <th></th>\n",
       "      <th></th>\n",
       "      <th></th>\n",
       "      <th></th>\n",
       "      <th></th>\n",
       "      <th></th>\n",
       "      <th></th>\n",
       "    </tr>\n",
       "  </thead>\n",
       "  <tbody>\n",
       "    <tr>\n",
       "      <th>2001</th>\n",
       "      <td>300930</td>\n",
       "      <td>355015</td>\n",
       "      <td>75</td>\n",
       "      <td>90995</td>\n",
       "      <td>52355</td>\n",
       "      <td>23785</td>\n",
       "      <td>116900</td>\n",
       "      <td>3040</td>\n",
       "    </tr>\n",
       "    <tr>\n",
       "      <th>2006</th>\n",
       "      <td>266860</td>\n",
       "      <td>379400</td>\n",
       "      <td>165</td>\n",
       "      <td>69430</td>\n",
       "      <td>54690</td>\n",
       "      <td>44095</td>\n",
       "      <td>162850</td>\n",
       "      <td>1335</td>\n",
       "    </tr>\n",
       "    <tr>\n",
       "      <th>2011</th>\n",
       "      <td>274940</td>\n",
       "      <td>429220</td>\n",
       "      <td>100</td>\n",
       "      <td>72480</td>\n",
       "      <td>60355</td>\n",
       "      <td>44750</td>\n",
       "      <td>163895</td>\n",
       "      <td>2165</td>\n",
       "    </tr>\n",
       "    <tr>\n",
       "      <th>2016</th>\n",
       "      <td>269680</td>\n",
       "      <td>493270</td>\n",
       "      <td>95</td>\n",
       "      <td>71200</td>\n",
       "      <td>61565</td>\n",
       "      <td>48585</td>\n",
       "      <td>165575</td>\n",
       "      <td>2845</td>\n",
       "    </tr>\n",
       "  </tbody>\n",
       "</table>\n",
       "</div>"
      ],
      "text/plain": [
       "      single_detached_house  apartment_five_storeys_plus  movable_dwelling  \\\n",
       "year                                                                         \n",
       "2001                 300930                       355015                75   \n",
       "2006                 266860                       379400               165   \n",
       "2011                 274940                       429220               100   \n",
       "2016                 269680                       493270                95   \n",
       "\n",
       "      semi_detached_house  row_house  duplex  apartment_five_storeys_less  \\\n",
       "year                                                                        \n",
       "2001                90995      52355   23785                       116900   \n",
       "2006                69430      54690   44095                       162850   \n",
       "2011                72480      60355   44750                       163895   \n",
       "2016                71200      61565   48585                       165575   \n",
       "\n",
       "      other_house  \n",
       "year               \n",
       "2001         3040  \n",
       "2006         1335  \n",
       "2011         2165  \n",
       "2016         2845  "
      ]
     },
     "execution_count": 111,
     "metadata": {},
     "output_type": "execute_result"
    }
   ],
   "source": [
    "# Calculate the sum number of dwelling types units per year (hint: use groupby)\n",
    "# Create new dataframe that contains only dwelling types (Drop all other columns)\n",
    "to_data_filtered = to_data.drop([\"neighbourhood\",\"average_house_value\",\"shelter_costs_owned\",\"shelter_costs_rented\"], axis=1)\n",
    "\n",
    "# Create a new dataframe containing the number of dwelling types per year\n",
    "to_data_filtered_grouped = to_data_filtered.groupby([\"year\"]).sum()\n",
    "to_data_filtered_grouped\n"
   ]
  },
  {
   "cell_type": "code",
   "execution_count": 112,
   "metadata": {},
   "outputs": [],
   "source": [
    "# Save the dataframe as a csv file\n",
    "to_data_filtered_grouped.to_csv(\"Data/toronto_number of dwelling types per year.csv\")"
   ]
  },
  {
   "cell_type": "code",
   "execution_count": 113,
   "metadata": {},
   "outputs": [],
   "source": [
    "# Helper create_bar_chart function\n",
    "def create_bar_chart(data, title, xlabel, ylabel, color):\n",
    "    data.plot.bar(title=title,xlabel=xlabel,ylabel=ylabel,color=color)\n"
   ]
  },
  {
   "cell_type": "code",
   "execution_count": 114,
   "metadata": {},
   "outputs": [
    {
     "data": {
      "image/png": "[encoded data removed]",
      "text/plain": [
       "<Figure size 432x288 with 1 Axes>"
      ]
     },
     "metadata": {
      "needs_background": "light"
     },
     "output_type": "display_data"
    }
   ],
   "source": [
    "# Create a bar chart per year to show the number of dwelling types\n",
    "\n",
    "# Bar chart for 2001 using the create_bar function\n",
    "create_bar_chart(\n",
    "    data = to_data_filtered_grouped.iloc[0],\n",
    "    title = \"Dwelling Types in Toronto 2001\",\n",
    "    xlabel = \"2001\",\n",
    "    ylabel = \"Dwelling Type Units\",\n",
    "    color = \"red\"\n",
    ")"
   ]
  },
  {
   "cell_type": "code",
   "execution_count": 115,
   "metadata": {},
   "outputs": [
    {
     "data": {
      "image/png": "[encoded data removed]",
      "text/plain": [
       "<Figure size 432x288 with 1 Axes>"
      ]
     },
     "metadata": {
      "needs_background": "light"
     },
     "output_type": "display_data"
    }
   ],
   "source": [
    "# Bar chart for 2006 using the create_bar function\n",
    "create_bar_chart(\n",
    "    data = to_data_filtered_grouped.iloc[1],\n",
    "    title = \"Dwelling Types in Toronto 2006\",\n",
    "    xlabel = \"2006\",\n",
    "    ylabel = \"Dwelling Type Units\",\n",
    "    color = \"blue\"\n",
    ")"
   ]
  },
  {
   "cell_type": "code",
   "execution_count": 116,
   "metadata": {},
   "outputs": [
    {
     "data": {
      "image/png": "[encoded data removed]",
      "text/plain": [
       "<Figure size 432x288 with 1 Axes>"
      ]
     },
     "metadata": {
      "needs_background": "light"
     },
     "output_type": "display_data"
    }
   ],
   "source": [
    "# Bar chart for 2011 using the create_bar function\n",
    "create_bar_chart(\n",
    "    data = to_data_filtered_grouped.iloc[2],\n",
    "    title = \"Dwelling Types in Toronto 2011\",\n",
    "    xlabel = \"2011\",\n",
    "    ylabel = \"Dwelling Type Units\",\n",
    "    color = \"orange\"\n",
    ")"
   ]
  },
  {
   "cell_type": "code",
   "execution_count": 117,
   "metadata": {},
   "outputs": [
    {
     "data": {
      "image/png": "[encoded data removed]",
      "text/plain": [
       "<Figure size 432x288 with 1 Axes>"
      ]
     },
     "metadata": {
      "needs_background": "light"
     },
     "output_type": "display_data"
    }
   ],
   "source": [
    "# Bar chart for 2016 using the create_bar function\n",
    "create_bar_chart(\n",
    "    data = to_data_filtered_grouped.iloc[3],\n",
    "    title = \"Dwelling Types in Toronto 2016\",\n",
    "    xlabel = \"2016\",\n",
    "    ylabel = \"Dwelling Type Units\",\n",
    "    color = \"magenta\"\n",
    ")"
   ]
  },
  {
   "cell_type": "markdown",
   "metadata": {},
   "source": [
    "- - - "
   ]
  },
  {
   "cell_type": "markdown",
   "metadata": {},
   "source": [
    "## Average Monthly Shelter Costs in Toronto Per Year\n",
    "\n",
    "In this section, you will calculate the average monthly shelter costs for owned and rented dwellings and the average house value for each year. Plot the results as a line chart.\n",
    "\n",
    "**Optional challenge:** Plot each line chart in a different color."
   ]
  },
  {
   "cell_type": "code",
   "execution_count": 142,
   "metadata": {},
   "outputs": [
    {
     "data": {
      "text/html": [
       "<div>\n",
       "<style scoped>\n",
       "    .dataframe tbody tr th:only-of-type {\n",
       "        vertical-align: middle;\n",
       "    }\n",
       "\n",
       "    .dataframe tbody tr th {\n",
       "        vertical-align: top;\n",
       "    }\n",
       "\n",
       "    .dataframe thead th {\n",
       "        text-align: right;\n",
       "    }\n",
       "</style>\n",
       "<table border=\"1\" class=\"dataframe\">\n",
       "  <thead>\n",
       "    <tr style=\"text-align: right;\">\n",
       "      <th></th>\n",
       "      <th>shelter_costs_owned</th>\n",
       "      <th>shelter_costs_rented</th>\n",
       "    </tr>\n",
       "    <tr>\n",
       "      <th>year</th>\n",
       "      <th></th>\n",
       "      <th></th>\n",
       "    </tr>\n",
       "  </thead>\n",
       "  <tbody>\n",
       "    <tr>\n",
       "      <th>2001</th>\n",
       "      <td>846.878571</td>\n",
       "      <td>1085.935714</td>\n",
       "    </tr>\n",
       "    <tr>\n",
       "      <th>2006</th>\n",
       "      <td>1316.800000</td>\n",
       "      <td>925.414286</td>\n",
       "    </tr>\n",
       "    <tr>\n",
       "      <th>2011</th>\n",
       "      <td>1448.214286</td>\n",
       "      <td>1019.792857</td>\n",
       "    </tr>\n",
       "    <tr>\n",
       "      <th>2016</th>\n",
       "      <td>1761.314286</td>\n",
       "      <td>1256.321429</td>\n",
       "    </tr>\n",
       "  </tbody>\n",
       "</table>\n",
       "</div>"
      ],
      "text/plain": [
       "      shelter_costs_owned  shelter_costs_rented\n",
       "year                                           \n",
       "2001           846.878571           1085.935714\n",
       "2006          1316.800000            925.414286\n",
       "2011          1448.214286           1019.792857\n",
       "2016          1761.314286           1256.321429"
      ]
     },
     "execution_count": 142,
     "metadata": {},
     "output_type": "execute_result"
    }
   ],
   "source": [
    "# Calculate the average monthly shelter costs for owned and rented dwellings\n",
    "# Create new dataframe that contains only owned and rented dwellings (Drop all other columns)\n",
    "to_data_owned_rented = to_data.drop([\"neighbourhood\",\"single_detached_house\",\"apartment_five_storeys_plus\",\"movable_dwelling\",\"semi_detached_house\",\"row_house\",\"duplex\",\"apartment_five_storeys_less\",\"other_house\",\"average_house_value\"], axis=1)\n",
    "\n",
    "# Create a new dataframe containing owned and rented dwellings types per year\n",
    "to_data_owned_rented_grouped = to_data_owned_rented.groupby([\"year\"]).mean()\n",
    "to_data_owned_rented_grouped"
   ]
  },
  {
   "cell_type": "code",
   "execution_count": 143,
   "metadata": {},
   "outputs": [],
   "source": [
    "# Helper create_line_chart function\n",
    "def create_line_chart(data, title, xlabel, ylabel, color):\n",
    "    data.plot(title=title,xlabel=xlabel,ylabel=ylabel,color=color) "
   ]
  },
  {
   "cell_type": "code",
   "execution_count": 144,
   "metadata": {},
   "outputs": [
    {
     "data": {
      "image/png": "[encoded data removed]",
      "text/plain": [
       "<Figure size 432x288 with 1 Axes>"
      ]
     },
     "metadata": {
      "needs_background": "light"
     },
     "output_type": "display_data"
    }
   ],
   "source": [
    "# Create two line charts, one to plot the monthly shelter costs for owned dwelleing and other for rented dwellings per year\n",
    "\n",
    "# Line chart for owned dwellings\n",
    "create_line_chart(\n",
    "    data = to_data_owned_rented_grouped[\"shelter_costs_owned\"],\n",
    "    title = \"Average Monthly Shelter Cost for Owned Dwellings in Toronto\",\n",
    "    xlabel = \"Year\",\n",
    "    ylabel = \"Avg Monthly Shelter Costs\",\n",
    "    color = \"blue\"\n",
    ")"
   ]
  },
  {
   "cell_type": "code",
   "execution_count": 145,
   "metadata": {},
   "outputs": [
    {
     "data": {
      "image/png": "[encoded data removed]",
      "text/plain": [
       "<Figure size 432x288 with 1 Axes>"
      ]
     },
     "metadata": {
      "needs_background": "light"
     },
     "output_type": "display_data"
    }
   ],
   "source": [
    "# Line chart for rented dwellings\n",
    "create_line_chart(\n",
    "    data = to_data_owned_rented_grouped[\"shelter_costs_rented\"],\n",
    "    title = \"Average Monthly Shelter Cost for Rented Dwellings in Toronto\",\n",
    "    xlabel = \"Year\",\n",
    "    ylabel = \"Avg Monthly Shelter Costs\",\n",
    "    color = \"orange\"\n",
    ")"
   ]
  },
  {
   "cell_type": "markdown",
   "metadata": {},
   "source": [
    "## Average House Value per Year\n",
    "\n",
    "In this section, you want to determine the average house value per year. An investor may want to understand better the sales price of the rental property over time. For example, a customer will want to know if they should expect an increase or decrease in the property value over time so they can determine how long to hold the rental property. You will visualize the `average_house_value` per year as a bar chart."
   ]
  },
  {
   "cell_type": "code",
   "execution_count": null,
   "metadata": {},
   "outputs": [],
   "source": [
    "# Calculate the average house value per year\n",
    "# YOUR CODE HERE!"
   ]
  },
  {
   "cell_type": "code",
   "execution_count": null,
   "metadata": {},
   "outputs": [],
   "source": [
    "# Plot the average house value per year as a line chart\n",
    "# YOUR CODE HERE!"
   ]
  },
  {
   "cell_type": "markdown",
   "metadata": {},
   "source": [
    "- - - "
   ]
  },
  {
   "cell_type": "markdown",
   "metadata": {},
   "source": [
    "## Average House Value by Neighbourhood\n",
    "\n",
    "In this section, you will use `hvplot` to create an interactive visualization of the average house value with a dropdown selector for the neighbourhood.\n",
    "\n",
    "**Hint:** It will be easier to create a new DataFrame from grouping the data and calculating the mean house values for each year and neighbourhood."
   ]
  },
  {
   "cell_type": "code",
   "execution_count": null,
   "metadata": {},
   "outputs": [],
   "source": [
    "# Create a new DataFrame with the mean house values by neighbourhood per year\n",
    "# YOUR CODE HERE!"
   ]
  },
  {
   "cell_type": "code",
   "execution_count": null,
   "metadata": {},
   "outputs": [],
   "source": [
    "# Use hvplot to create an interactive line chart of the average house value per neighbourhood\n",
    "# The plot should have a dropdown selector for the neighbourhood\n",
    "# YOUR CODE HERE!"
   ]
  },
  {
   "cell_type": "markdown",
   "metadata": {},
   "source": [
    "## Number of Dwelling Types per Year\n",
    "\n",
    "In this section, you will use `hvplot` to create an interactive visualization of the average number of dwelling types per year with a dropdown selector for the neighbourhood."
   ]
  },
  {
   "cell_type": "code",
   "execution_count": null,
   "metadata": {},
   "outputs": [],
   "source": [
    "# Fetch the data of all dwelling types per year\n",
    "# YOUR CODE HERE!"
   ]
  },
  {
   "cell_type": "code",
   "execution_count": null,
   "metadata": {},
   "outputs": [],
   "source": [
    "# Use hvplot to create an interactive bar chart of the number of dwelling types per neighbourhood\n",
    "# The plot should have a dropdown selector for the neighbourhood\n",
    "# YOUR CODE HERE!"
   ]
  },
  {
   "cell_type": "markdown",
   "metadata": {},
   "source": [
    "- - - "
   ]
  },
  {
   "cell_type": "markdown",
   "metadata": {},
   "source": [
    "## The Top 10 Most Expensive Neighbourhoods\n",
    "\n",
    "In this section, you will need to calculate the house value for each neighbourhood and then sort the values to obtain the top 10 most expensive neighbourhoods on average. Plot the results as a bar chart."
   ]
  },
  {
   "cell_type": "code",
   "execution_count": null,
   "metadata": {},
   "outputs": [],
   "source": [
    "# Getting the data from the top 10 expensive neighbourhoods\n",
    "# YOUR CODE HERE!"
   ]
  },
  {
   "cell_type": "code",
   "execution_count": null,
   "metadata": {},
   "outputs": [],
   "source": [
    "# Plotting the data from the top 10 expensive neighbourhoods\n",
    "# YOUR CODE HERE!"
   ]
  },
  {
   "cell_type": "markdown",
   "metadata": {},
   "source": [
    "- - - "
   ]
  },
  {
   "cell_type": "markdown",
   "metadata": {},
   "source": [
    "## Neighbourhood Map\n",
    "\n",
    "In this section, you will read in neighbourhoods location data and build an interactive map with the average house value per neighbourhood. Use a `scatter_mapbox` from Plotly express to create the visualization. Remember, you will need your Mapbox API key for this."
   ]
  },
  {
   "cell_type": "markdown",
   "metadata": {},
   "source": [
    "### Load Location Data"
   ]
  },
  {
   "cell_type": "code",
   "execution_count": null,
   "metadata": {},
   "outputs": [],
   "source": [
    "# Load neighbourhoods coordinates data\n",
    "file_path = Path(\"Data/toronto_neighbourhoods_coordinates.csv\")\n",
    "df_neighbourhood_locations = pd.read_csv(file_path)\n",
    "df_neighbourhood_locations.head()"
   ]
  },
  {
   "cell_type": "markdown",
   "metadata": {},
   "source": [
    "### Data Preparation\n",
    "\n",
    "You will need to join the location data with the mean values per neighbourhood.\n",
    "\n",
    "1. Calculate the mean values for each neighbourhood.\n",
    "\n",
    "2. Join the average values with the neighbourhood locations."
   ]
  },
  {
   "cell_type": "code",
   "execution_count": null,
   "metadata": {},
   "outputs": [],
   "source": [
    "# Calculate the mean values for each neighborhood\n",
    "# YOUR CODE HERE!"
   ]
  },
  {
   "cell_type": "code",
   "execution_count": null,
   "metadata": {},
   "outputs": [],
   "source": [
    "# Join the average values with the neighbourhood locations\n",
    "# YOUR CODE HERE!"
   ]
  },
  {
   "cell_type": "markdown",
   "metadata": {},
   "source": [
    "### Mapbox Visualization\n",
    "\n",
    "Plot the average values per neighbourhood using a Plotly express `scatter_mapbox` visualization."
   ]
  },
  {
   "cell_type": "code",
   "execution_count": null,
   "metadata": {},
   "outputs": [],
   "source": [
    "# Create a scatter mapbox to analyze neighbourhood info\n",
    "# YOUR CODE HERE!"
   ]
  },
  {
   "cell_type": "markdown",
   "metadata": {},
   "source": [
    "- - -"
   ]
  },
  {
   "cell_type": "markdown",
   "metadata": {},
   "source": [
    "## Cost Analysis - Optional Challenge\n",
    "\n",
    "In this section, you will use Plotly express to a couple of plots that investors can interactively filter and explore various factors related to the house value of the Toronto's neighbourhoods. \n",
    "\n",
    "### Create a bar chart row facet to plot the average house values for all Toronto's neighbourhoods per year"
   ]
  },
  {
   "cell_type": "code",
   "execution_count": null,
   "metadata": {},
   "outputs": [],
   "source": [
    "# YOUR CODE HERE!"
   ]
  },
  {
   "cell_type": "markdown",
   "metadata": {},
   "source": [
    "### Create a sunburst chart to conduct a costs analysis of most expensive neighbourhoods in Toronto per year"
   ]
  },
  {
   "cell_type": "code",
   "execution_count": null,
   "metadata": {},
   "outputs": [],
   "source": [
    "# Fetch the data from all expensive neighbourhoods per year.\n",
    "# YOUR CODE HERE!"
   ]
  },
  {
   "cell_type": "code",
   "execution_count": null,
   "metadata": {},
   "outputs": [],
   "source": [
    "# Create the sunburst chart\n",
    "# YOUR CODE HERE!"
   ]
  }
 ],
 "metadata": {
  "file_extension": ".py",
  "kernelspec": {
   "display_name": "Python [conda env:pyvizenv] *",
   "language": "python",
   "name": "conda-env-pyvizenv-py"
  },
  "language_info": {
   "codemirror_mode": {
    "name": "ipython",
    "version": 3
   },
   "file_extension": ".py",
   "mimetype": "text/x-python",
   "name": "python",
   "nbconvert_exporter": "python",
   "pygments_lexer": "ipython3",
   "version": "3.7.11"
  },
  "mimetype": "text/x-python",
  "name": "python",
  "npconvert_exporter": "python",
  "pygments_lexer": "ipython3",
  "version": 3
 },
 "nbformat": 4,
 "nbformat_minor": 4
}
